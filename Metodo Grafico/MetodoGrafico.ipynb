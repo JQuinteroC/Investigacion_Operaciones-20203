{
  "nbformat": 4,
  "nbformat_minor": 0,
  "metadata": {
    "colab": {
      "name": "MetodoGrafico.ipynb",
      "provenance": [],
      "authorship_tag": "ABX9TyP1wf6vrptALQAwASu3V8Hd",
      "include_colab_link": true
    },
    "kernelspec": {
      "name": "python3",
      "display_name": "Python 3"
    }
  },
  "cells": [
    {
      "cell_type": "markdown",
      "metadata": {
        "id": "view-in-github",
        "colab_type": "text"
      },
      "source": [
        "<a href=\"https://colab.research.google.com/github/JQuinteroC/Investigacion_Operaciones-20203/blob/master/Metodo%20Grafico/MetodoGrafico.ipynb\" target=\"_parent\"><img src=\"https://colab.research.google.com/assets/colab-badge.svg\" alt=\"Open In Colab\"/></a>"
      ]
    },
    {
      "cell_type": "code",
      "metadata": {
        "id": "ykUf_2N_X2nM",
        "outputId": "33b798b9-6771-4fc3-8dbd-69be7f61f39b",
        "colab": {
          "base_uri": "https://localhost:8080/",
          "height": 296
        }
      },
      "source": [
        "import numpy as np\n",
        "\n",
        "import matplotlib.pyplot as plt\n",
        "\n",
        "# plot the feasible region\n",
        "d = np.linspace(-2,16,300)\n",
        "x,y = np.meshgrid(d,d)\n",
        "plt.imshow( ((y>=2) & (2*y<=25-x) & (4*y>=2*x-8) & (y<=2*x-5)).astype(int) , \n",
        "                extent=(x.min(),x.max(),y.min(),y.max()),origin=\"lower\", cmap=\"Greys\", alpha = 0.3);\n",
        "\n",
        "\n",
        "# plot the lines defining the constraints\n",
        "x = np.linspace(0, 16, 2000)\n",
        "# y >= 2\n",
        "y1 = (x*0) + 2\n",
        "# 2y <= 25 - x\n",
        "y2 = (25-x)/2.0\n",
        "# 4y >= 2x - 8 \n",
        "y3 = (2*x-8)/4.0\n",
        "# y <= 2x - 5 \n",
        "y4 = 2 * x -5\n",
        "\n",
        "# Make plot\n",
        "plt.plot(x, 2*np.ones_like(y1))\n",
        "plt.plot(x, y2, label=r'$2y\\leq25-x$')\n",
        "plt.plot(x, y3, label=r'$4y\\geq 2x - 8$')\n",
        "plt.plot(x, y4, label=r'$y\\leq 2x-5$')\n",
        "plt.xlim(0,16)\n",
        "plt.ylim(0,11)\n",
        "plt.legend(bbox_to_anchor=(1.05, 1), loc=2, borderaxespad=0.)\n",
        "plt.xlabel(r'$x$')\n",
        "plt.ylabel(r'$y$')"
      ],
      "execution_count": 2,
      "outputs": [
        {
          "output_type": "execute_result",
          "data": {
            "text/plain": [
              "Text(0, 0.5, '$y$')"
            ]
          },
          "metadata": {
            "tags": []
          },
          "execution_count": 2
        },
        {
          "output_type": "display_data",
          "data": {
            "image/png": "[encoded data removed]",
            "text/plain": [
              "<Figure size 432x288 with 1 Axes>"
            ]
          },
          "metadata": {
            "tags": [],
            "needs_background": "light"
          }
        }
      ]
    }
  ]
}
