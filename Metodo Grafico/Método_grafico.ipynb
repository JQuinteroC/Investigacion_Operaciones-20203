{
  "nbformat": 4,
  "nbformat_minor": 0,
  "metadata": {
    "colab": {
      "name": "Método grafico.ipynb",
      "provenance": [],
      "include_colab_link": true
    },
    "kernelspec": {
      "name": "python3",
      "display_name": "Python 3"
    }
  },
  "cells": [
    {
      "cell_type": "markdown",
      "metadata": {
        "id": "view-in-github",
        "colab_type": "text"
      },
      "source": [
        "<a href=\"https://colab.research.google.com/github/JQuinteroC/Investigacion_Operaciones-20203/blob/master/Metodo%20Grafico/M%C3%A9todo_grafico.ipynb\" target=\"_parent\"><img src=\"https://colab.research.google.com/assets/colab-badge.svg\" alt=\"Open In Colab\"/></a>"
      ]
    },
    {
      "cell_type": "code",
      "metadata": {
        "id": "35YFhd4cU8WO"
      },
      "source": [
        "#Método gráfico\n",
        "\n",
        "'''\n",
        "Jose Luis Quintero Cañizalez - 20181020061\n",
        "David Armando Rodríguez Varón - 20181020041\n",
        "Juan Sebastián Sánchez Tabares - 20181020008\n",
        "'''\n",
        "\n",
        "#Imports\n",
        "import numpy as np\n",
        "import matplotlib.pyplot as plt\n",
        "import sympy as sim"
      ],
      "execution_count": null,
      "outputs": []
    },
    {
      "cell_type": "code",
      "metadata": {
        "id": "oqB4ClcrTYB3"
      },
      "source": [
        "#Plotting region\n",
        "def plot_func(func, start, stop, x, y):\n",
        "  '''\n",
        "  Grafica la región dada las condiciones\n",
        "\n",
        "  Args:\n",
        "  func -- función a graficar\n",
        "  start -- número que contiene el inicio del area a graficar\n",
        "  stop -- número que contiene el fin del area a graficar\n",
        "  x -- variable x\n",
        "  y -- variable y\n",
        "  '''\n",
        "\n",
        "  plt.imshow((func).astype(int), extent=(x.min(),x.max(),y.min(),y.max()), origin=\"lower\", cmap=\"Blues\", alpha = 0.3)\n",
        "\n",
        "  x = np.linspace(start, stop, 2000)  \n",
        "\n",
        "  plt.xlim(start, stop)\n",
        "  plt.ylim(start, stop)\n",
        "  plt.xlabel(r'$x$')\n",
        "  plt.ylabel(r'$y$')\n",
        "  plt.legend(bbox_to_anchor=(1.05, 1), loc=2, borderaxespad=0.)"
      ],
      "execution_count": null,
      "outputs": []
    },
    {
      "cell_type": "code",
      "metadata": {
        "id": "ztYw8NCLV2fk",
        "outputId": "f3080c4c-421f-4906-d441-10c956577403",
        "colab": {
          "base_uri": "https://localhost:8080/",
          "height": 283
        }
      },
      "source": [
        "#Resolver 2x+y < 5\n",
        "\n",
        "d = np.linspace(-15, 15, 300)\n",
        "x, y = np.meshgrid(d, d)\n",
        "\n",
        "\n",
        "f = 2 * x + y < 5\n",
        "\n",
        "s = np.linspace(-15, 15, 2000)\n",
        "y2 = 5 - 2 * s\n",
        "plt.plot(s, y2, label=r'$2x+y<5$')\n",
        "\n",
        "plot_func(f, -10, 10, x, y)"
      ],
      "execution_count": null,
      "outputs": [
        {
          "output_type": "display_data",
          "data": {
            "image/png": "[encoded data removed]",
            "text/plain": [
              "<Figure size 432x288 with 1 Axes>"
            ]
          },
          "metadata": {
            "tags": [],
            "needs_background": "light"
          }
        }
      ]
    },
    {
      "cell_type": "code",
      "metadata": {
        "id": "2uJuwAJ_YpRH",
        "outputId": "52bf33b5-cd0f-46c9-8ec6-4f6772188e0b",
        "colab": {
          "base_uri": "https://localhost:8080/",
          "height": 283
        }
      },
      "source": [
        "#Resolver y <= 5\n",
        "\n",
        "d = np.linspace(-15, 15, 300)\n",
        "x, y = np.meshgrid(d, d)\n",
        "\n",
        "f = y <= 5\n",
        "\n",
        "s = np.linspace(-15, 15, 2000)\n",
        "y2 = 5 + s * 0\n",
        "plt.plot(s, y2, label=r'$y\\leq5$')\n",
        "\n",
        "plot_func(f, -10, 10, x, y)"
      ],
      "execution_count": null,
      "outputs": [
        {
          "output_type": "display_data",
          "data": {
            "image/png": "[encoded data removed]",
            "text/plain": [
              "<Figure size 432x288 with 1 Axes>"
            ]
          },
          "metadata": {
            "tags": [],
            "needs_background": "light"
          }
        }
      ]
    },
    {
      "cell_type": "code",
      "metadata": {
        "id": "iVCqRMUoLq_i",
        "outputId": "16f4c9c8-7be4-4d0d-9a95-399ec2b87db8",
        "colab": {
          "base_uri": "https://localhost:8080/",
          "height": 283
        }
      },
      "source": [
        "#Resolver 2 (2x - y) < 2 (x + y) - 4 \n",
        "\n",
        "d = np.linspace(-15, 15, 300)\n",
        "x, y = np.meshgrid(d, d)\n",
        "\n",
        "f = 2 * (2 * x - y) < 2 * (x + y) - 4\n",
        "\n",
        "s = np.linspace(-15, 15, 2000)\n",
        "y2 = s / 2 + 1\n",
        "plt.plot(s, y2, label=r'$2 (2x - y) < 2 (x + y) - 4$')\n",
        "\n",
        "plot_func(f, -5, 10, x, y)"
      ],
      "execution_count": null,
      "outputs": [
        {
          "output_type": "display_data",
          "data": {
            "image/png": "[encoded data removed]",
            "text/plain": [
              "<Figure size 432x288 with 1 Axes>"
            ]
          },
          "metadata": {
            "tags": [],
            "needs_background": "light"
          }
        }
      ]
    },
    {
      "cell_type": "code",
      "metadata": {
        "id": "YHsbcES6MY8p",
        "outputId": "8a3f1494-3541-406f-b55d-60fe90ada00f",
        "colab": {
          "base_uri": "https://localhost:8080/",
          "height": 283
        }
      },
      "source": [
        "'''Resolver\n",
        "      2x+y>3\n",
        "      2y-1>0\n",
        "      x >= y\n",
        "'''\n",
        "\n",
        "d = np.linspace(-15, 15, 300)\n",
        "x, y = np.meshgrid(d, d)\n",
        "\n",
        "f = (2 * x + y > 3) & (2 * y - 1 > 0) & (x >= y)\n",
        "\n",
        "s = np.linspace(-15, 15, 2000)\n",
        "y2 = 3 - 2 * s\n",
        "plt.plot(s, y2, label=r'$2x+y>3$')\n",
        "y3 = 1 / 2 + s * 0\n",
        "plt.plot(s, y3, label=r'$2y-1>0$')\n",
        "y4 = s\n",
        "plt.plot(s, y4, label=r'$x\\geq y$')\n",
        "\n",
        "plot_func(f, -5, 10, x, y)"
      ],
      "execution_count": null,
      "outputs": [
        {
          "output_type": "display_data",
          "data": {
            "image/png": "[encoded data removed]",
            "text/plain": [
              "<Figure size 432x288 with 1 Axes>"
            ]
          },
          "metadata": {
            "tags": [],
            "needs_background": "light"
          }
        }
      ]
    },
    {
      "cell_type": "code",
      "metadata": {
        "id": "oOPmpGk_M19_",
        "outputId": "d9bb1410-263e-4181-9d3a-ab9cbe716ff4",
        "colab": {
          "base_uri": "https://localhost:8080/",
          "height": 283
        }
      },
      "source": [
        "'''Resolver\n",
        "      2x+3y <= 60 \n",
        "      x >= 0\n",
        "      y >= 0\n",
        "'''\n",
        "\n",
        "d = np.linspace(-15, 45, 600)\n",
        "x, y = np.meshgrid(d, d)\n",
        "\n",
        "f = (2 * x + 3 * y <= 60) & (x >= 0) & (y >= 0)\n",
        "\n",
        "s = np.linspace(-15, 45, 2000)\n",
        "y2 = (60 - 2 * s) / 3\n",
        "plt.plot(s, y2, label=r'$2x+3y\\leq 60$')\n",
        "y3 = s * 0\n",
        "plt.plot(s, y3, label=r'$y \\geq 0$')\n",
        "plt.plot(np.zeros_like(s), s, label=r'$x\\geq 0$')\n",
        "\n",
        "plot_func(f, -10, 40, x, y)"
      ],
      "execution_count": null,
      "outputs": [
        {
          "output_type": "display_data",
          "data": {
            "image/png": "[encoded data removed]",
            "text/plain": [
              "<Figure size 432x288 with 1 Axes>"
            ]
          },
          "metadata": {
            "tags": [],
            "needs_background": "light"
          }
        }
      ]
    },
    {
      "cell_type": "code",
      "metadata": {
        "id": "UhprK0avNU8h",
        "outputId": "23d70b6e-2042-4be2-883f-fbc7f758989b",
        "colab": {
          "base_uri": "https://localhost:8080/",
          "height": 300
        }
      },
      "source": [
        "'''Resolver\n",
        "      p = 4x+6y\n",
        "      2x+y<=180\n",
        "      x+2y<=160\n",
        "      x >= 0\n",
        "      x+y<= 100\n",
        "      y >=0\n",
        "'''\n",
        "\n",
        "d = np.linspace(-15, 105, 600)\n",
        "x, y = np.meshgrid(d, d)\n",
        "\n",
        "f = (2 * x + y <= 180) & (x + 2 * y <= 160) & (x >= 0) & (x + y <= 100) & (y >= 0)\n",
        "\n",
        "s = np.linspace(-10, 100, 2000)\n",
        "y2 = 180 - 2 * s\n",
        "plt.plot(s, y2, label=r'$2x+y\\leq 180$')\n",
        "y3 = (160 - s) / 2\n",
        "plt.plot(s, y3, label=r'$x+2y\\leq 160$')\n",
        "y5 = 100 - s\n",
        "plt.plot(s, y5, label=r'$x+y\\leq 100$')\n",
        "y4 = s * 0\n",
        "plt.plot(s, y4, label=r'$y \\geq 0$')\n",
        "plt.plot(np.zeros_like(s), s, label=r'$x\\geq 0$')\n",
        "plt.plot(s, y2, s, y3)\n",
        "\n",
        "xi, yi = sim.symbols('xi, yi')\n",
        "\n",
        "points = [(0, 0), (0, 80)]\n",
        "px, px = [], []\n",
        "cons = [180 - 2 * xi, (160 - xi) / 2, 100 - xi, xi * 0]\n",
        "\n",
        "for i in range(len(cons) - 1):\n",
        "  for k in range(i + 1, len(cons)):\n",
        "    eq = sim.Eq(cons[i], cons[k])\n",
        "    sol = sim.solve([eq], (xi, yi))\n",
        "    #print(cons[i])\n",
        "    #print(cons[i+1])\n",
        "    #print(sol)\n",
        "    eqst = str(cons[i])\n",
        "    sol2 = eval(eqst, {'xi': sol[xi]})\n",
        "    #print(sol2, sol[xi])\n",
        "    points.append((sol[xi], sol2))\n",
        "\n",
        "points.remove((100, 0))\n",
        "points.remove((200/3, 140/3))\n",
        "points.remove((160, 0))\n",
        "\n",
        "p = set(points)\n",
        "\n",
        "for pair in p:\n",
        "  xt, yt = pair\n",
        "  plt.plot(xt, yt, 'ro')\n",
        "\n",
        "plot_func(f, -10, 100, x, y)\n",
        "\n",
        "max = '4 * x+6 * y'\n",
        "\n",
        "value = -100000\n",
        "xm, ym = 0, 0\n",
        "\n",
        "for pair in p:\n",
        "  xt, yt = pair\n",
        "  new_value = eval(max, {'x': xt, 'y': yt})\n",
        "  if new_value >= value:\n",
        "    value = new_value\n",
        "    xm = xt\n",
        "    ym = yt\n",
        "\n",
        "print('El valor maximizado es: {}, en las coordenadas: ({}, {})'.format(value, xm, ym))"
      ],
      "execution_count": null,
      "outputs": [
        {
          "output_type": "stream",
          "text": [
            "El valor maximizado es: 520, en las coordenadas: (40, 60)\n"
          ],
          "name": "stdout"
        },
        {
          "output_type": "display_data",
          "data": {
            "image/png": "[encoded data removed]",
            "text/plain": [
              "<Figure size 432x288 with 1 Axes>"
            ]
          },
          "metadata": {
            "tags": [],
            "needs_background": "light"
          }
        }
      ]
    },
    {
      "cell_type": "code",
      "metadata": {
        "id": "JPwIboJkF0lq",
        "outputId": "a5ebc8c3-4000-4f91-e38e-f1a063093f98",
        "colab": {
          "base_uri": "https://localhost:8080/",
          "height": 300
        }
      },
      "source": [
        "\n",
        "'''Resolver\n",
        "      p = 200x+100y\n",
        "      sugeto a:\n",
        "      5x+3y<=105\n",
        "      2x+4y<=70\n",
        "      x >= 0\n",
        "      y >=0\n",
        "'''\n",
        "\n",
        "d = np.linspace(-15, 105, 600)\n",
        "x, y = np.meshgrid(d, d)\n",
        "\n",
        "f = (5 * x + 3 * y <= 105) & (2 * x + 4 * y <= 70) & (x >= 0) & (y >= 0)\n",
        "\n",
        "s = np.linspace(-10, 40, 2000)\n",
        "y2 = (105 - 5 * s) / 3\n",
        "plt.plot(s, y2, label=r'$5x+3y\\leq 105$')\n",
        "y3 = (70 - 2 * s) / 4\n",
        "plt.plot(s, y3, label=r'$2x+4y\\leq 70$')\n",
        "y4 = s * 0\n",
        "plt.plot(s, y4, label=r'$y \\geq 0$')\n",
        "plt.plot(np.zeros_like(s), s, label=r'$x\\geq 0$')\n",
        "plt.plot(s, y2, s, y3)\n",
        "\n",
        "xi, yi = sim.symbols('xi, yi')\n",
        "\n",
        "points = [(0, 0), (0, 35/2)]\n",
        "px, px = [], []\n",
        "cons = [(105 - 5 * xi) / 3, (70 - 2 * xi) / 4, xi * 0]\n",
        "\n",
        "for i in range(len(cons) - 1):\n",
        "  for k in range(i + 1, len(cons)):\n",
        "    eq = sim.Eq(cons[i], cons[k])\n",
        "    sol = sim.solve([eq], (xi, yi))\n",
        "    eqst = str(cons[i])\n",
        "    sol2 = eval(eqst, {'xi': sol[xi]})\n",
        "    points.append((sol[xi], sol2))\n",
        "\n",
        "points.remove((35, 0))\n",
        "#points.remove((200/3, 140/3))\n",
        "#points.remove((160, 0))\n",
        "\n",
        "p = set(points)\n",
        "\n",
        "for pair in p:\n",
        "  xt, yt = pair\n",
        "  plt.plot(xt, yt, 'ro')\n",
        "\n",
        "plot_func(f, -10, 40, x, y)\n",
        "\n",
        "max = '200 * x+6 * y'\n",
        "\n",
        "value = -100000\n",
        "xm, ym = 0, 0\n",
        "\n",
        "for pair in p:\n",
        "  xt, yt = pair\n",
        "  new_value = eval(max, {'x': xt, 'y': yt})\n",
        "  if new_value >= value:\n",
        "    value = new_value\n",
        "    xm = xt\n",
        "    ym = yt\n",
        "\n",
        "print('El valor maximizado es: {}, en las coordenadas: ({}, {})'.format(value, xm, ym))"
      ],
      "execution_count": null,
      "outputs": [
        {
          "output_type": "stream",
          "text": [
            "El valor maximizado es: 4200, en las coordenadas: (21, 0)\n"
          ],
          "name": "stdout"
        },
        {
          "output_type": "display_data",
          "data": {
            "image/png": "[encoded data removed]",
            "text/plain": [
              "<Figure size 432x288 with 1 Axes>"
            ]
          },
          "metadata": {
            "tags": [],
            "needs_background": "light"
          }
        }
      ]
    },
    {
      "cell_type": "code",
      "metadata": {
        "id": "Bgu08thRF1YZ",
        "outputId": "4c3702e5-f0c3-4604-903b-875534ea6d44",
        "colab": {
          "base_uri": "https://localhost:8080/",
          "height": 300
        }
      },
      "source": [
        "'''\n",
        "EJERCICIO 1\n",
        "Con el comienzo del curso se van a lanzar unas ofertas de material escolar.\n",
        "Unos almacenes quieren ofrecer 600 cuadernos, 500 carpetas y 400 bolígrafos para la oferta, empaquetando de dos formas distintas; \n",
        "en el primer bloque pondrá 2 cuadernos, 1 carpeta y 2 bolígrafos; \n",
        "en el segundo, pondrán 3 cuadernos, 1 carpeta y 1 bolígrafo.\n",
        "Los precios de cada paquete serán 6.5 y 7 €, respectivamente.\n",
        "¿Cuántos paquetes le conviene poner de cada tipo para obtener el máximo beneficio?\n",
        "\n",
        "Máximizar 6.5x+7y\n",
        "sujeto a:\n",
        "  2x+3y <= 600\n",
        "  x+ y <= 500\n",
        "  2x + y <= 400\n",
        "'''\n",
        "\n",
        "\n",
        "d = np.linspace(-50, 505, 600)\n",
        "x, y = np.meshgrid(d, d)\n",
        "\n",
        "f = (y + x <= 500) & (2 * x + y <= 400) & (y + 2/3 * x <= 200) & (y >= 0) & (x >= 0)\n",
        "\n",
        "s = np.linspace(-50, 500, 2000)\n",
        "y2 = (200 - 2/3 * s)\n",
        "plt.plot(s, y2, label=r'$2x+3y\\leq 600$')\n",
        "y3 = (500 - s)\n",
        "plt.plot(s, y3, label=r'$x+y\\leq 500$')\n",
        "y4 = 0 * s\n",
        "plt.plot(s, y4, label=r'$y \\geq 0$')\n",
        "y5 = 400 - 2 * s\n",
        "plt.plot(s, y5, label=r'$2x+y \\leq 400$')\n",
        "plt.plot(np.zeros_like(s), s, label=r'$x\\geq 0$')\n",
        "plt.plot(s, y2, s, y3)\n",
        "\n",
        "xi, yi = sim.symbols('xi, yi')\n",
        "\n",
        "points = [(0, 0), (0, 200)]\n",
        "px, px = [], []\n",
        "cons = [(200 - 2/3 * xi), (500 - xi) , 400 - 2 * xi, xi * 0]\n",
        "\n",
        "for i in range(len(cons) - 1):\n",
        "  for k in range(i + 1, len(cons)):\n",
        "    eq = sim.Eq(cons[i], cons[k])\n",
        "    sol = sim.solve([eq], (xi, yi))\n",
        "    eqst = str(cons[i])\n",
        "    sol2 = eval(eqst, {'xi': sol[xi]})\n",
        "    points.append((sol[xi], sol2))\n",
        "\n",
        "points.pop(2)\n",
        "points.pop(3)\n",
        "points.remove((500, 0))\n",
        "points.remove((-100, 600))\n",
        "#print(points)\n",
        "\n",
        "p = set(points)\n",
        "#print(p)\n",
        "\n",
        "for pair in p:\n",
        "  xt, yt = pair\n",
        "  plt.plot(xt, yt, 'ro')\n",
        "\n",
        "plot_func(f, -50, 500, x, y)\n",
        "\n",
        "max = '6.5 * x + 7 * y'\n",
        "\n",
        "value = -100000\n",
        "xm, ym = 0, 0\n",
        "\n",
        "for pair in p:\n",
        "  xt, yt = pair\n",
        "  new_value = eval(max, {'x': xt, 'y': yt})\n",
        "  if new_value >= value:\n",
        "    value = new_value\n",
        "    xm = xt\n",
        "    ym = yt\n",
        "\n",
        "print('El valor maximizado es: {}, en las coordenadas: ({}, {})'.format(value, xm, ym))\n"
      ],
      "execution_count": null,
      "outputs": [
        {
          "output_type": "stream",
          "text": [
            "El valor maximizado es: 1675.00000000000, en las coordenadas: (150.000000000000, 100.000000000000)\n"
          ],
          "name": "stdout"
        },
        {
          "output_type": "display_data",
          "data": {
            "image/png": "[encoded data removed]",
            "text/plain": [
              "<Figure size 432x288 with 1 Axes>"
            ]
          },
          "metadata": {
            "tags": [],
            "needs_background": "light"
          }
        }
      ]
    },
    {
      "cell_type": "code",
      "metadata": {
        "id": "y9QtgFX7Hr2x",
        "outputId": "9cebb083-bae9-428e-c68c-a452b5e59566",
        "colab": {
          "base_uri": "https://localhost:8080/",
          "height": 300
        }
      },
      "source": [
        "'''\n",
        "EJERCICIO 2\n",
        "Un estudiante necesita completar un total de 65 cursos para graduarse. El número de asignaturas intrínsecas tendrá que ser mayor que o igual 23. \n",
        "El número de asignaturas extrínsecas debe ser mayor que o igual a 20. Los cursos de sistemas requieren un libro de texto que cuesta $60 e implica 120 horas de estudio. \n",
        "Los cursos de otras áreas requieren un libro de texto que cuesta $24 e implican 200 horas de estudio. El estudiante dispone de un presupuesto de $3,000 para libros.\n",
        "¿Con qué combinación de cursos de sistemas y otros ajenos a esta área se minimizaría el número total de horas de estudio?\n",
        "Maximizar z = 120x + 200y\n",
        "sujeto a:\n",
        "  x + y <= 65\n",
        "  x >= 23\n",
        "  y >= 20\n",
        "  60x + 24y <= 3000\n",
        "'''\n",
        "\n",
        "\n",
        "\n",
        "d = np.linspace(-15, 65, 600)\n",
        "x, y = np.meshgrid(d, d)\n",
        "\n",
        "f = (x + y <= 65) & (x >= 23) & (y >= 20) & (60 * x + 24 * y <= 3000)\n",
        "\n",
        "s = np.linspace(-10, 60, 2000)\n",
        "y2 = 65 - s\n",
        "plt.plot(s, y2, label=r'$x+y\\leq 65$')\n",
        "y3 = 125 - 5/2 * s\n",
        "plt.plot(s, y3, label=r'$60x+24y\\leq 3000$')\n",
        "y4 = 0 * s + 20\n",
        "plt.plot(s, y4, label=r'$y \\geq 20$')\n",
        "y5 = 0 * s\n",
        "plt.plot(s, y5)\n",
        "plt.plot(np.zeros_like(s) + 23, s, label=r'$x\\geq 23$')\n",
        "plt.plot(np.zeros_like(s), s)\n",
        "plt.plot(s, y2, s, y3)\n",
        "\n",
        "xi, yi = sim.symbols('xi, yi')\n",
        "\n",
        "points = []\n",
        "px, px = [], []\n",
        "cons = [(65 - xi), (125 - 5/2 * xi), xi * 0 + 20]\n",
        "\n",
        "for i in range(len(cons) - 1):\n",
        "  for k in range(i + 1, len(cons)):\n",
        "    eq = sim.Eq(cons[i], cons[k])\n",
        "    sol = sim.solve([eq], (xi, yi))\n",
        "    eqst = str(cons[i])\n",
        "    sol2 = eval(eqst, {'xi': sol[xi]})\n",
        "    points.append((sol[xi], sol2))\n",
        "\n",
        "points.pop(-1)\n",
        "points.remove((45, 20))\n",
        "points.append((23, 42))\n",
        "p = set(points)\n",
        "#print(p)\n",
        "\n",
        "for pair in p:\n",
        "  xt, yt = pair\n",
        "  plt.plot(xt, yt, 'ro')\n",
        "\n",
        "plot_func(f, -10, 60, x, y)\n",
        "\n",
        "min = '120 * x + 200 * y'\n",
        "\n",
        "value = 100000\n",
        "xm, ym = 0, 0\n",
        "\n",
        "for pair in p:\n",
        "  xt, yt = pair\n",
        "  new_value = eval(min, {'x': xt, 'y': yt})\n",
        "  if new_value <= value:\n",
        "    value = new_value\n",
        "    xm = xt\n",
        "    ym = yt\n",
        "\n",
        "print('El valor maximizado es: {}, en las coordenadas: ({}, {})'.format(value, xm, ym))\n"
      ],
      "execution_count": null,
      "outputs": [
        {
          "output_type": "stream",
          "text": [
            "El valor maximizado es: 9800.00000000000, en las coordenadas: (40.0000000000000, 25.0000000000000)\n"
          ],
          "name": "stdout"
        },
        {
          "output_type": "display_data",
          "data": {
            "image/png": "[encoded data removed]",
            "text/plain": [
              "<Figure size 432x288 with 1 Axes>"
            ]
          },
          "metadata": {
            "tags": [],
            "needs_background": "light"
          }
        }
      ]
    }
  ]
}